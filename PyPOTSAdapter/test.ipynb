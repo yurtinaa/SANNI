{
 "cells": [
  {
   "metadata": {
    "ExecuteTime": {
     "end_time": "2024-09-15T20:42:44.870434Z",
     "start_time": "2024-09-15T20:42:44.801435Z"
    }
   },
   "cell_type": "code",
   "source": [
    "\n",
    "%load_ext autoreload\n",
    "%autoreload 2"
   ],
   "id": "d095c61e48da97a1",
   "outputs": [],
   "execution_count": 1
  },
  {
   "metadata": {
    "ExecuteTime": {
     "end_time": "2024-09-15T20:43:09.912986Z",
     "start_time": "2024-09-15T20:42:44.911434Z"
    }
   },
   "cell_type": "code",
   "source": [
    "import numpy as np\n",
    "from sklearn.preprocessing import StandardScaler\n",
    "from pygrinder import mcar\n",
    "from pypots.data import load_specific_dataset"
   ],
   "id": "64b0d7f02f6d96c",
   "outputs": [
    {
     "name": "stderr",
     "output_type": "stream",
     "text": [
      "I:\\work\\SANNI\\venv\\lib\\site-packages\\pypots\\nn\\modules\\reformer\\local_attention.py:31: FutureWarning: `torch.cuda.amp.autocast(args...)` is deprecated. Please use `torch.amp.autocast('cuda', args...)` instead.\n",
      "  @autocast(enabled=False)\n",
      "I:\\work\\SANNI\\venv\\lib\\site-packages\\pypots\\nn\\modules\\reformer\\local_attention.py:102: FutureWarning: `torch.cuda.amp.autocast(args...)` is deprecated. Please use `torch.amp.autocast('cuda', args...)` instead.\n",
      "  @autocast(enabled=False)\n"
     ]
    }
   ],
   "execution_count": 2
  },
  {
   "metadata": {
    "collapsed": true,
    "ExecuteTime": {
     "end_time": "2024-09-15T20:44:16.959371Z",
     "start_time": "2024-09-15T20:43:22.261759Z"
    }
   },
   "cell_type": "code",
   "source": "data = load_specific_dataset('physionet_2012')  # PyPOTS will automatically download and extract it.\n",
   "id": "initial_id",
   "outputs": [
    {
     "name": "stderr",
     "output_type": "stream",
     "text": [
      "2024-09-16 01:43:22 [INFO]: Loading the dataset physionet_2012 with TSDB (https://github.com/WenjieDu/Time_Series_Data_Beans)...\n",
      "2024-09-16 01:43:22 [INFO]: Starting preprocessing physionet_2012...\n",
      "2024-09-16 01:43:22 [INFO]: You're using dataset physionet_2012, please cite it properly in your work. You can find its reference information at the below link: \n",
      "https://github.com/WenjieDu/TSDB/tree/main/dataset_profiles/physionet_2012\n",
      "2024-09-16 01:43:22 [INFO]: Dataset physionet_2012 has already been downloaded. Processing directly...\n",
      "2024-09-16 01:43:22 [INFO]: Dataset physionet_2012 has already been cached. Loading from cache directly...\n",
      "2024-09-16 01:43:22 [INFO]: Loaded successfully!\n",
      "2024-09-16 01:44:16 [WARNING]: Note that physionet_2012 has sparse observations in the time series, hence we don't add additional missing values to the training dataset. \n",
      "2024-09-16 01:44:16 [INFO]: 69707 values masked out in the val set as ground truth, take 9.97% of the original observed values\n",
      "2024-09-16 01:44:16 [INFO]: 86366 values masked out in the test set as ground truth, take 10.02% of the original observed values\n",
      "2024-09-16 01:44:16 [INFO]: Total sample number: 11988\n",
      "2024-09-16 01:44:16 [INFO]: Training set size: 7671 (63.99%)\n",
      "2024-09-16 01:44:16 [INFO]: Validation set size: 1918 (16.00%)\n",
      "2024-09-16 01:44:16 [INFO]: Test set size: 2399 (20.01%)\n",
      "2024-09-16 01:44:16 [INFO]: Number of steps: 48\n",
      "2024-09-16 01:44:16 [INFO]: Number of features: 37\n",
      "2024-09-16 01:44:16 [INFO]: Train set missing rate: 79.75%\n",
      "2024-09-16 01:44:16 [INFO]: Validating set missing rate: 81.53%\n",
      "2024-09-16 01:44:16 [INFO]: Test set missing rate: 81.80%\n",
      "2024-09-16 01:44:16 [WARNING]: ⚠️ load_specific_dataset() will be deprecated in the near future. Data preprocessing functions are moved to BenchPOTS, which now supports processing 170+ public time-series datasets.\n"
     ]
    }
   ],
   "execution_count": 3
  },
  {
   "metadata": {
    "ExecuteTime": {
     "end_time": "2024-09-15T20:44:17.177658Z",
     "start_time": "2024-09-15T20:44:16.982410Z"
    }
   },
   "cell_type": "code",
   "source": "data.keys()",
   "id": "b8c2745b978cdc31",
   "outputs": [
    {
     "data": {
      "text/plain": [
       "dict_keys(['n_classes', 'n_steps', 'n_features', 'scaler', 'train_X', 'train_y', 'train_ICUType', 'val_X', 'val_y', 'val_ICUType', 'test_X', 'test_y', 'test_ICUType', 'val_X_ori', 'test_X_ori'])"
      ]
     },
     "execution_count": 4,
     "metadata": {},
     "output_type": "execute_result"
    }
   ],
   "execution_count": 4
  },
  {
   "metadata": {
    "ExecuteTime": {
     "end_time": "2024-09-15T20:44:18.587985Z",
     "start_time": "2024-09-15T20:44:17.439527Z"
    }
   },
   "cell_type": "code",
   "source": [
    "X = data['train_X']\n",
    "num_samples = len(X)\n",
    "# X = X.drop(['RecordID', 'Time'], axis = 1)\n",
    "X = X.reshape(-1, 37)\n",
    "X = StandardScaler().fit_transform(X)\n",
    "X = X.reshape(num_samples, 48, -1)\n",
    "X_ori = X  # keep X_ori for validation\n",
    "X = mcar(X, 0.1)"
   ],
   "id": "5b4c82c935197b3c",
   "outputs": [],
   "execution_count": 5
  },
  {
   "metadata": {},
   "cell_type": "markdown",
   "source": "",
   "id": "2a130a91299b083c"
  },
  {
   "metadata": {
    "ExecuteTime": {
     "end_time": "2024-09-15T20:44:18.779416Z",
     "start_time": "2024-09-15T20:44:18.602019Z"
    }
   },
   "cell_type": "code",
   "source": "print(X.shape)  # (11988, 48, 37), 11988 samples and each sample has 48 time steps, 37 features",
   "id": "df2c78fe750f5c21",
   "outputs": [
    {
     "name": "stdout",
     "output_type": "stream",
     "text": [
      "(7671, 48, 37)\n"
     ]
    }
   ],
   "execution_count": 6
  },
  {
   "metadata": {
    "ExecuteTime": {
     "end_time": "2024-09-15T20:44:20.665523Z",
     "start_time": "2024-09-15T20:44:18.829426Z"
    }
   },
   "cell_type": "code",
   "source": [
    "from pypots.imputation import BRITS\n",
    "from BRITS.PypotsBrits import BRITS as myBrits"
   ],
   "id": "14be5742ebab513e",
   "outputs": [],
   "execution_count": 7
  },
  {
   "metadata": {
    "ExecuteTime": {
     "end_time": "2024-09-15T20:44:20.728008Z",
     "start_time": "2024-09-15T20:44:20.715484Z"
    }
   },
   "cell_type": "code",
   "source": "",
   "id": "f5257f4e1f91a52",
   "outputs": [],
   "execution_count": null
  },
  {
   "metadata": {
    "ExecuteTime": {
     "end_time": "2024-09-15T20:44:26.055045Z",
     "start_time": "2024-09-15T20:44:20.847835Z"
    }
   },
   "cell_type": "code",
   "source": "saits = BRITS(n_steps=48, n_features=37, epochs=10, rnn_hidden_size=10)\n",
   "id": "60c4bb6c04af9c9a",
   "outputs": [
    {
     "name": "stderr",
     "output_type": "stream",
     "text": [
      "2024-09-16 01:44:21 [INFO]: No given device, using default device: cuda\n",
      "2024-09-16 01:44:21 [WARNING]: ‼️ saving_path not given. Model files and tensorboard file will not be saved.\n",
      "2024-09-16 01:44:25 [INFO]: BRITS initialized with the given hyperparameters, the number of trainable parameters: 19,628\n"
     ]
    }
   ],
   "execution_count": 8
  },
  {
   "metadata": {
    "ExecuteTime": {
     "end_time": "2024-09-15T20:45:12.107848Z",
     "start_time": "2024-09-15T20:44:26.138661Z"
    }
   },
   "cell_type": "code",
   "source": [
    "dataset = {\"X\": X[:100]}  # X for model input\n",
    "saits.fit(dataset)  # train the model on the dataset\n"
   ],
   "id": "62df125219660a27",
   "outputs": [
    {
     "name": "stderr",
     "output_type": "stream",
     "text": [
      "2024-09-16 01:44:36 [INFO]: Epoch 001 - training loss: 1.5125\n",
      "2024-09-16 01:44:40 [INFO]: Epoch 002 - training loss: 1.3970\n",
      "2024-09-16 01:44:44 [INFO]: Epoch 003 - training loss: 1.3864\n",
      "2024-09-16 01:44:47 [INFO]: Epoch 004 - training loss: 1.4552\n",
      "2024-09-16 01:44:51 [INFO]: Epoch 005 - training loss: 1.4255\n",
      "2024-09-16 01:44:55 [INFO]: Epoch 006 - training loss: 1.3910\n",
      "2024-09-16 01:44:58 [INFO]: Epoch 007 - training loss: 1.3982\n",
      "2024-09-16 01:45:04 [INFO]: Epoch 008 - training loss: 1.4460\n",
      "2024-09-16 01:45:09 [INFO]: Epoch 009 - training loss: 1.3994\n",
      "2024-09-16 01:45:12 [INFO]: Epoch 010 - training loss: 1.3508\n",
      "2024-09-16 01:45:12 [INFO]: Finished training. The best model is from epoch#10.\n"
     ]
    }
   ],
   "execution_count": 9
  },
  {
   "metadata": {
    "ExecuteTime": {
     "end_time": "2024-09-15T21:15:51.159500Z",
     "start_time": "2024-09-15T21:15:02.365855Z"
    }
   },
   "cell_type": "code",
   "source": [
    "from Logger.ConsoleLogger import ConsoleLogger\n",
    "from AbstractModel.score import get_score, ScoreType\n",
    "from AbstractModel.optimizer.abstract_optimizer import Adam\n",
    "from AbstractModel.error.AbstractError import ErrorType\n",
    "from AbstractModel.error.TorchError import get_error\n",
    "from AbstractModel.Parametrs import TimeSeriesConfig, TorchNNConfig\n",
    "from PyPOTSAdapter.BRITS.BRITS import BRITSImpute\n",
    "\n",
    "error = get_error(ErrorType.MAE)()\n",
    "time_series_config = TimeSeriesConfig(X[:100].shape[2],\n",
    "                                      X[:100].shape[1])\n",
    "train_config = TorchNNConfig(\n",
    "    batch_size=32,\n",
    "    epochs=10,\n",
    "    error_factory=error,\n",
    "    optimizer_type=Adam(amsgrad=False),\n",
    "    score_factory=get_score(ScoreType.MSE),\n",
    "    early_stopping_patience=50\n",
    ")\n",
    "print_logger = ConsoleLogger().configure()\n",
    "\n",
    "model = BRITSImpute(time_series=time_series_config,\n",
    "                    neural_network_config=train_config,\n",
    "                    logger=print_logger,\n",
    "                    device='cuda:0')\n",
    "history = model.train(X[:100], X[:100])"
   ],
   "id": "1b55ffcfb2a96541",
   "outputs": [
    {
     "name": "stderr",
     "output_type": "stream",
     "text": [
      "2024-09-16 02:15:14,156 - ConsoleLogger - INFO\n",
      "----------------------------\n",
      "[LogKeys.EPOCH]: 0\n",
      "[EpochType.TRAIN]: {'MAE': 1.8694677750269573, 'brits_score': [MSE]: 1.1527024904886882}\n",
      "[EpochType.EVAL]: {'MAE': 1.927904725074768, 'brits_score': [MSE]: 1.2804162502288818}\n",
      "---------------------------\n",
      "\n",
      "2024-09-16 02:15:14,157 - ConsoleLogger - INFO\n",
      "----------------------------\n",
      "new best model\n",
      "---------------------------\n",
      "\n",
      "2024-09-16 02:15:20,858 - ConsoleLogger - INFO\n",
      "----------------------------\n",
      "[LogKeys.EPOCH]: 1\n",
      "[EpochType.TRAIN]: {'MAE': 1.8339452346165974, 'brits_score': [MSE]: 1.117957353591919}\n",
      "[EpochType.EVAL]: {'MAE': 1.7786332766215007, 'brits_score': [MSE]: 1.0722324053446453}\n",
      "---------------------------\n",
      "\n",
      "2024-09-16 02:15:20,860 - ConsoleLogger - INFO\n",
      "----------------------------\n",
      "new best model\n",
      "---------------------------\n",
      "\n",
      "2024-09-16 02:15:25,839 - ConsoleLogger - INFO\n",
      "----------------------------\n",
      "[LogKeys.EPOCH]: 2\n",
      "[EpochType.TRAIN]: {'MAE': 1.8319321473439534, 'brits_score': [MSE]: 1.120954990386963}\n",
      "[EpochType.EVAL]: {'MAE': 1.7418323357899983, 'brits_score': [MSE]: 1.114862362543742}\n",
      "---------------------------\n",
      "\n",
      "2024-09-16 02:15:25,841 - ConsoleLogger - INFO\n",
      "----------------------------\n",
      "new best model\n",
      "---------------------------\n",
      "\n",
      "2024-09-16 02:15:30,080 - ConsoleLogger - INFO\n",
      "----------------------------\n",
      "[LogKeys.EPOCH]: 3\n",
      "[EpochType.TRAIN]: {'MAE': 1.7674630482991536, 'brits_score': [MSE]: 1.0611201127370198}\n",
      "[EpochType.EVAL]: {'MAE': 1.743040919303894, 'brits_score': [MSE]: 1.0474028587341309}\n",
      "---------------------------\n",
      "\n",
      "2024-09-16 02:15:33,595 - ConsoleLogger - INFO\n",
      "----------------------------\n",
      "[LogKeys.EPOCH]: 4\n",
      "[EpochType.TRAIN]: {'MAE': 1.81310240427653, 'brits_score': [MSE]: 1.1947458585103352}\n",
      "[EpochType.EVAL]: {'MAE': 1.7352163394292195, 'brits_score': [MSE]: 1.0974522431691487}\n",
      "---------------------------\n",
      "\n",
      "2024-09-16 02:15:33,596 - ConsoleLogger - INFO\n",
      "----------------------------\n",
      "new best model\n",
      "---------------------------\n",
      "\n",
      "2024-09-16 02:15:37,142 - ConsoleLogger - INFO\n",
      "----------------------------\n",
      "[LogKeys.EPOCH]: 5\n",
      "[EpochType.TRAIN]: {'MAE': 1.7390642563501995, 'brits_score': [MSE]: 1.0684386094411213}\n",
      "[EpochType.EVAL]: {'MAE': 1.6450742483139038, 'brits_score': [MSE]: 0.9437606334686279}\n",
      "---------------------------\n",
      "\n",
      "2024-09-16 02:15:37,143 - ConsoleLogger - INFO\n",
      "----------------------------\n",
      "new best model\n",
      "---------------------------\n",
      "\n",
      "2024-09-16 02:15:40,642 - ConsoleLogger - INFO\n",
      "----------------------------\n",
      "[LogKeys.EPOCH]: 6\n",
      "[EpochType.TRAIN]: {'MAE': 1.6389865080515544, 'brits_score': [MSE]: 0.9291197458902994}\n",
      "[EpochType.EVAL]: {'MAE': 1.5763882795969646, 'brits_score': [MSE]: 0.8596928119659424}\n",
      "---------------------------\n",
      "\n",
      "2024-09-16 02:15:40,643 - ConsoleLogger - INFO\n",
      "----------------------------\n",
      "new best model\n",
      "---------------------------\n",
      "\n",
      "2024-09-16 02:15:44,130 - ConsoleLogger - INFO\n",
      "----------------------------\n",
      "[LogKeys.EPOCH]: 7\n",
      "[EpochType.TRAIN]: {'MAE': 1.5872408151626587, 'brits_score': [MSE]: 0.8974736531575521}\n",
      "[EpochType.EVAL]: {'MAE': 1.4999736547470093, 'brits_score': [MSE]: 0.7942180633544922}\n",
      "---------------------------\n",
      "\n",
      "2024-09-16 02:15:44,131 - ConsoleLogger - INFO\n",
      "----------------------------\n",
      "new best model\n",
      "---------------------------\n",
      "\n",
      "2024-09-16 02:15:47,596 - ConsoleLogger - INFO\n",
      "----------------------------\n",
      "[LogKeys.EPOCH]: 8\n",
      "[EpochType.TRAIN]: {'MAE': 1.6935716072718303, 'brits_score': [MSE]: 1.0952181816101074}\n",
      "[EpochType.EVAL]: {'MAE': 1.48502516746521, 'brits_score': [MSE]: 0.7708733876546224}\n",
      "---------------------------\n",
      "\n",
      "2024-09-16 02:15:47,596 - ConsoleLogger - INFO\n",
      "----------------------------\n",
      "new best model\n",
      "---------------------------\n",
      "\n",
      "2024-09-16 02:15:51,138 - ConsoleLogger - INFO\n",
      "----------------------------\n",
      "[LogKeys.EPOCH]: 9\n",
      "[EpochType.TRAIN]: {'MAE': 1.4540998935699463, 'brits_score': [MSE]: 0.7555343310038248}\n",
      "[EpochType.EVAL]: {'MAE': 1.5019107262293498, 'brits_score': [MSE]: 0.8323020935058594}\n",
      "---------------------------\n",
      "\n"
     ]
    }
   ],
   "execution_count": 29
  },
  {
   "metadata": {
    "ExecuteTime": {
     "end_time": "2024-09-15T21:24:57.524020Z",
     "start_time": "2024-09-15T21:24:53.495325Z"
    }
   },
   "cell_type": "code",
   "source": "san_brits_result = model(X[:100])",
   "id": "c870c1a224d6de4d",
   "outputs": [],
   "execution_count": 34
  },
  {
   "metadata": {},
   "cell_type": "code",
   "outputs": [],
   "execution_count": null,
   "source": [
    "calc_mae(brits_impute, np.nan_to_num(X_ori[:100]),\n",
    "         indicating_mask)  "
   ],
   "id": "9d1fe753270cf678"
  },
  {
   "metadata": {
    "ExecuteTime": {
     "end_time": "2024-09-15T20:34:34.994026200Z",
     "start_time": "2024-09-15T20:34:31.762356Z"
    }
   },
   "cell_type": "code",
   "source": [
    "dataset = {\"X\": X[:100]}  # X for model input\n",
    "myBritrs = myBrits(n_steps=48, n_features=37, epochs=10, rnn_hidden_size=10)\n",
    "myBritrs.fit(dataset)"
   ],
   "id": "9028de8c9fc545a2",
   "outputs": [
    {
     "name": "stderr",
     "output_type": "stream",
     "text": [
      "2024-09-16 01:34:33 [INFO]: No given device, using default device: cuda\n",
      "2024-09-16 01:34:33 [WARNING]: ‼️ saving_path not given. Model files and tensorboard file will not be saved.\n",
      "2024-09-16 01:34:33 [INFO]: BRITS initialized with the given hyperparameters, the number of trainable parameters: 19,628\n"
     ]
    },
    {
     "ename": "KeyboardInterrupt",
     "evalue": "",
     "output_type": "error",
     "traceback": [
      "\u001B[1;31m---------------------------------------------------------------------------\u001B[0m",
      "\u001B[1;31mKeyboardInterrupt\u001B[0m                         Traceback (most recent call last)",
      "Cell \u001B[1;32mIn[62], line 3\u001B[0m\n\u001B[0;32m      1\u001B[0m dataset \u001B[38;5;241m=\u001B[39m {\u001B[38;5;124m\"\u001B[39m\u001B[38;5;124mX\u001B[39m\u001B[38;5;124m\"\u001B[39m: X[:\u001B[38;5;241m100\u001B[39m]}  \u001B[38;5;66;03m# X for model input\u001B[39;00m\n\u001B[0;32m      2\u001B[0m myBritrs \u001B[38;5;241m=\u001B[39m myBrits(n_steps\u001B[38;5;241m=\u001B[39m\u001B[38;5;241m48\u001B[39m, n_features\u001B[38;5;241m=\u001B[39m\u001B[38;5;241m37\u001B[39m, epochs\u001B[38;5;241m=\u001B[39m\u001B[38;5;241m10\u001B[39m, rnn_hidden_size\u001B[38;5;241m=\u001B[39m\u001B[38;5;241m10\u001B[39m)\n\u001B[1;32m----> 3\u001B[0m \u001B[43mmyBritrs\u001B[49m\u001B[38;5;241;43m.\u001B[39;49m\u001B[43mfit\u001B[49m\u001B[43m(\u001B[49m\u001B[43mdataset\u001B[49m\u001B[43m)\u001B[49m\n",
      "File \u001B[1;32mI:\\work\\SANNI\\PyPOTSAdapter\\BRITS\\PypotsBrits.py:199\u001B[0m, in \u001B[0;36mBRITS.fit\u001B[1;34m(self, train_set, val_set, file_type)\u001B[0m\n\u001B[0;32m    192\u001B[0m \u001B[38;5;28;01mdef\u001B[39;00m \u001B[38;5;21mfit\u001B[39m(\n\u001B[0;32m    193\u001B[0m     \u001B[38;5;28mself\u001B[39m,\n\u001B[0;32m    194\u001B[0m     train_set: Union[\u001B[38;5;28mdict\u001B[39m, \u001B[38;5;28mstr\u001B[39m],\n\u001B[1;32m   (...)\u001B[0m\n\u001B[0;32m    197\u001B[0m ) \u001B[38;5;241m-\u001B[39m\u001B[38;5;241m>\u001B[39m \u001B[38;5;28;01mNone\u001B[39;00m:\n\u001B[0;32m    198\u001B[0m     \u001B[38;5;66;03m# Step 1: wrap the input data with classes Dataset and DataLoader\u001B[39;00m\n\u001B[1;32m--> 199\u001B[0m     training_set \u001B[38;5;241m=\u001B[39m \u001B[43mDatasetForBRITS\u001B[49m\u001B[43m(\u001B[49m\n\u001B[0;32m    200\u001B[0m \u001B[43m        \u001B[49m\u001B[43mtrain_set\u001B[49m\u001B[43m,\u001B[49m\u001B[43m \u001B[49m\u001B[43mreturn_X_ori\u001B[49m\u001B[38;5;241;43m=\u001B[39;49m\u001B[38;5;28;43;01mFalse\u001B[39;49;00m\u001B[43m,\u001B[49m\u001B[43m \u001B[49m\u001B[43mreturn_y\u001B[49m\u001B[38;5;241;43m=\u001B[39;49m\u001B[38;5;28;43;01mFalse\u001B[39;49;00m\u001B[43m,\u001B[49m\u001B[43m \u001B[49m\u001B[43mfile_type\u001B[49m\u001B[38;5;241;43m=\u001B[39;49m\u001B[43mfile_type\u001B[49m\n\u001B[0;32m    201\u001B[0m \u001B[43m    \u001B[49m\u001B[43m)\u001B[49m\n\u001B[0;32m    202\u001B[0m     training_loader \u001B[38;5;241m=\u001B[39m DataLoader(\n\u001B[0;32m    203\u001B[0m         training_set,\n\u001B[0;32m    204\u001B[0m         batch_size\u001B[38;5;241m=\u001B[39m\u001B[38;5;28mself\u001B[39m\u001B[38;5;241m.\u001B[39mbatch_size,\n\u001B[0;32m    205\u001B[0m         shuffle\u001B[38;5;241m=\u001B[39m\u001B[38;5;28;01mTrue\u001B[39;00m,\n\u001B[0;32m    206\u001B[0m         num_workers\u001B[38;5;241m=\u001B[39m\u001B[38;5;28mself\u001B[39m\u001B[38;5;241m.\u001B[39mnum_workers,\n\u001B[0;32m    207\u001B[0m     )\n\u001B[0;32m    208\u001B[0m     val_loader \u001B[38;5;241m=\u001B[39m \u001B[38;5;28;01mNone\u001B[39;00m\n",
      "File \u001B[1;32mI:\\work\\SANNI\\venv\\lib\\site-packages\\pypots\\imputation\\brits\\data.py:70\u001B[0m, in \u001B[0;36mDatasetForBRITS.__init__\u001B[1;34m(self, data, return_X_ori, return_y, file_type)\u001B[0m\n\u001B[0;32m     68\u001B[0m backward_X \u001B[38;5;241m=\u001B[39m torch\u001B[38;5;241m.\u001B[39mflip(forward_X, dims\u001B[38;5;241m=\u001B[39m[\u001B[38;5;241m1\u001B[39m])\n\u001B[0;32m     69\u001B[0m backward_missing_mask \u001B[38;5;241m=\u001B[39m torch\u001B[38;5;241m.\u001B[39mflip(forward_missing_mask, dims\u001B[38;5;241m=\u001B[39m[\u001B[38;5;241m1\u001B[39m])\n\u001B[1;32m---> 70\u001B[0m backward_delta \u001B[38;5;241m=\u001B[39m \u001B[43m_parse_delta_torch\u001B[49m\u001B[43m(\u001B[49m\u001B[43mbackward_missing_mask\u001B[49m\u001B[43m)\u001B[49m\n\u001B[0;32m     72\u001B[0m \u001B[38;5;28mself\u001B[39m\u001B[38;5;241m.\u001B[39mprocessed_data \u001B[38;5;241m=\u001B[39m {\n\u001B[0;32m     73\u001B[0m     \u001B[38;5;124m\"\u001B[39m\u001B[38;5;124mforward\u001B[39m\u001B[38;5;124m\"\u001B[39m: {\n\u001B[0;32m     74\u001B[0m         \u001B[38;5;124m\"\u001B[39m\u001B[38;5;124mX\u001B[39m\u001B[38;5;124m\"\u001B[39m: forward_X\u001B[38;5;241m.\u001B[39mto(torch\u001B[38;5;241m.\u001B[39mfloat32),\n\u001B[1;32m   (...)\u001B[0m\n\u001B[0;32m     82\u001B[0m     },\n\u001B[0;32m     83\u001B[0m }\n",
      "File \u001B[1;32mI:\\work\\SANNI\\venv\\lib\\site-packages\\pypots\\data\\utils.py:78\u001B[0m, in \u001B[0;36m_parse_delta_torch\u001B[1;34m(missing_mask)\u001B[0m\n\u001B[0;32m     76\u001B[0m delta_collector \u001B[38;5;241m=\u001B[39m []\n\u001B[0;32m     77\u001B[0m \u001B[38;5;28;01mfor\u001B[39;00m m_mask \u001B[38;5;129;01min\u001B[39;00m missing_mask:\n\u001B[1;32m---> 78\u001B[0m     delta \u001B[38;5;241m=\u001B[39m \u001B[43mcal_delta_for_single_sample\u001B[49m\u001B[43m(\u001B[49m\u001B[43mm_mask\u001B[49m\u001B[43m)\u001B[49m\n\u001B[0;32m     79\u001B[0m     delta_collector\u001B[38;5;241m.\u001B[39mappend(delta\u001B[38;5;241m.\u001B[39munsqueeze(\u001B[38;5;241m0\u001B[39m))\n\u001B[0;32m     80\u001B[0m delta \u001B[38;5;241m=\u001B[39m torch\u001B[38;5;241m.\u001B[39mconcat(delta_collector, dim\u001B[38;5;241m=\u001B[39m\u001B[38;5;241m0\u001B[39m)\n",
      "File \u001B[1;32mI:\\work\\SANNI\\venv\\lib\\site-packages\\pypots\\data\\utils.py:65\u001B[0m, in \u001B[0;36m_parse_delta_torch.<locals>.cal_delta_for_single_sample\u001B[1;34m(mask)\u001B[0m\n\u001B[0;32m     61\u001B[0m d \u001B[38;5;241m=\u001B[39m [torch\u001B[38;5;241m.\u001B[39mzeros(\u001B[38;5;241m1\u001B[39m, n_features, device\u001B[38;5;241m=\u001B[39mdevice)]\n\u001B[0;32m     63\u001B[0m \u001B[38;5;28;01mfor\u001B[39;00m step \u001B[38;5;129;01min\u001B[39;00m \u001B[38;5;28mrange\u001B[39m(\u001B[38;5;241m1\u001B[39m, n_steps):\n\u001B[0;32m     64\u001B[0m     d\u001B[38;5;241m.\u001B[39mappend(\n\u001B[1;32m---> 65\u001B[0m         torch\u001B[38;5;241m.\u001B[39mones(\u001B[38;5;241m1\u001B[39m, n_features, device\u001B[38;5;241m=\u001B[39mdevice) \u001B[38;5;241m+\u001B[39m (\u001B[38;5;241;43m1\u001B[39;49m\u001B[43m \u001B[49m\u001B[38;5;241;43m-\u001B[39;49m\u001B[43m \u001B[49m\u001B[43mmask\u001B[49m\u001B[43m[\u001B[49m\u001B[43mstep\u001B[49m\u001B[43m \u001B[49m\u001B[38;5;241;43m-\u001B[39;49m\u001B[43m \u001B[49m\u001B[38;5;241;43m1\u001B[39;49m\u001B[43m]\u001B[49m) \u001B[38;5;241m*\u001B[39m d[\u001B[38;5;241m-\u001B[39m\u001B[38;5;241m1\u001B[39m]\n\u001B[0;32m     66\u001B[0m     )\n\u001B[0;32m     67\u001B[0m d \u001B[38;5;241m=\u001B[39m torch\u001B[38;5;241m.\u001B[39mconcat(d, dim\u001B[38;5;241m=\u001B[39m\u001B[38;5;241m0\u001B[39m)\n\u001B[0;32m     68\u001B[0m \u001B[38;5;28;01mreturn\u001B[39;00m d\n",
      "File \u001B[1;32mI:\\work\\SANNI\\venv\\lib\\site-packages\\torch\\_tensor.py:41\u001B[0m, in \u001B[0;36m_handle_torch_function_and_wrap_type_error_to_not_implemented.<locals>.wrapped\u001B[1;34m(*args, **kwargs)\u001B[0m\n\u001B[0;32m     39\u001B[0m     \u001B[38;5;28;01mif\u001B[39;00m has_torch_function(args):\n\u001B[0;32m     40\u001B[0m         \u001B[38;5;28;01mreturn\u001B[39;00m handle_torch_function(wrapped, args, \u001B[38;5;241m*\u001B[39margs, \u001B[38;5;241m*\u001B[39m\u001B[38;5;241m*\u001B[39mkwargs)\n\u001B[1;32m---> 41\u001B[0m     \u001B[38;5;28;01mreturn\u001B[39;00m f(\u001B[38;5;241m*\u001B[39margs, \u001B[38;5;241m*\u001B[39m\u001B[38;5;241m*\u001B[39mkwargs)\n\u001B[0;32m     42\u001B[0m \u001B[38;5;28;01mexcept\u001B[39;00m \u001B[38;5;167;01mTypeError\u001B[39;00m:\n\u001B[0;32m     43\u001B[0m     \u001B[38;5;28;01mreturn\u001B[39;00m \u001B[38;5;28mNotImplemented\u001B[39m\n",
      "File \u001B[1;32mI:\\work\\SANNI\\venv\\lib\\site-packages\\torch\\_tensor.py:962\u001B[0m, in \u001B[0;36mTensor.__rsub__\u001B[1;34m(self, other)\u001B[0m\n\u001B[0;32m    960\u001B[0m \u001B[38;5;129m@_handle_torch_function_and_wrap_type_error_to_not_implemented\u001B[39m\n\u001B[0;32m    961\u001B[0m \u001B[38;5;28;01mdef\u001B[39;00m \u001B[38;5;21m__rsub__\u001B[39m(\u001B[38;5;28mself\u001B[39m, other):\n\u001B[1;32m--> 962\u001B[0m     \u001B[38;5;28;01mreturn\u001B[39;00m \u001B[43m_C\u001B[49m\u001B[38;5;241;43m.\u001B[39;49m\u001B[43m_VariableFunctions\u001B[49m\u001B[38;5;241;43m.\u001B[39;49m\u001B[43mrsub\u001B[49m\u001B[43m(\u001B[49m\u001B[38;5;28;43mself\u001B[39;49m\u001B[43m,\u001B[49m\u001B[43m \u001B[49m\u001B[43mother\u001B[49m\u001B[43m)\u001B[49m\n",
      "\u001B[1;31mKeyboardInterrupt\u001B[0m: "
     ]
    }
   ],
   "execution_count": 62
  },
  {
   "metadata": {
    "ExecuteTime": {
     "end_time": "2024-09-15T21:25:34.442496Z",
     "start_time": "2024-09-15T21:25:28.069376Z"
    }
   },
   "cell_type": "code",
   "source": "brits_impute = saits.impute(dataset)\n",
   "id": "1cfcdcd21d84f454",
   "outputs": [],
   "execution_count": 37
  },
  {
   "metadata": {
    "ExecuteTime": {
     "end_time": "2024-09-13T13:43:43.513738Z",
     "start_time": "2024-09-13T13:43:40.745761Z"
    }
   },
   "cell_type": "code",
   "source": [
    "my_brits_impute = myBritrs.impute(dataset)\n",
    "indicating_mask = np.isnan(X) ^ np.isnan(X_ori)"
   ],
   "id": "3662f932e87994da",
   "outputs": [
    {
     "name": "stdout",
     "output_type": "stream",
     "text": [
      "tensor(0.7052, device='cuda:0') tensor(0.6363, device='cuda:0') tensor(1.3415, device='cuda:0')\n",
      "tensor(0.6531, device='cuda:0') tensor(0.6347, device='cuda:0') tensor(1.2878, device='cuda:0')\n",
      "tensor(0.5035, device='cuda:0') tensor(0.4907, device='cuda:0') tensor(0.9941, device='cuda:0')\n",
      "tensor(0.6895, device='cuda:0') tensor(0.6528, device='cuda:0') tensor(1.3423, device='cuda:0')\n"
     ]
    }
   ],
   "execution_count": 78
  },
  {
   "metadata": {
    "ExecuteTime": {
     "end_time": "2024-09-15T21:25:05.318176Z",
     "start_time": "2024-09-15T21:25:04.678354Z"
    }
   },
   "cell_type": "code",
   "source": [
    "indicating_mask = np.isnan(X) ^ np.isnan(X_ori)\n",
    "indicating_mask = indicating_mask[:100]"
   ],
   "id": "9c202497e775110c",
   "outputs": [],
   "execution_count": 35
  },
  {
   "metadata": {
    "ExecuteTime": {
     "end_time": "2024-09-15T21:25:39.297052Z",
     "start_time": "2024-09-15T21:25:39.023289Z"
    }
   },
   "cell_type": "code",
   "source": [
    "from pypots.utils.metrics import calc_mae\n",
    "\n",
    "calc_mae(brits_impute, np.nan_to_num(X_ori[:100]),\n",
    "         indicating_mask)  # calculate mean absolute error on the ground truth (artificially-missing values)\n"
   ],
   "id": "1aa9db07985b820c",
   "outputs": [
    {
     "data": {
      "text/plain": [
       "0.6460574315569586"
      ]
     },
     "execution_count": 38,
     "metadata": {},
     "output_type": "execute_result"
    }
   ],
   "execution_count": 38
  },
  {
   "metadata": {
    "ExecuteTime": {
     "end_time": "2024-09-15T21:25:53.676794Z",
     "start_time": "2024-09-15T21:25:53.092308Z"
    }
   },
   "cell_type": "code",
   "source": [
    "calc_mae(san_brits_result, np.nan_to_num(X_ori[:100]),\n",
    "         indicating_mask)  # calculate mean absolute error on the ground truth (artificially-missing values)"
   ],
   "id": "7f882b6f939ee080",
   "outputs": [
    {
     "data": {
      "text/plain": [
       "0.5100794408556515"
      ]
     },
     "execution_count": 39,
     "metadata": {},
     "output_type": "execute_result"
    }
   ],
   "execution_count": 39
  },
  {
   "metadata": {
    "ExecuteTime": {
     "end_time": "2024-09-10T16:42:18.248663Z",
     "start_time": "2024-09-10T16:42:18.054637Z"
    }
   },
   "cell_type": "code",
   "source": "",
   "id": "7c61510878ed3011",
   "outputs": [
    {
     "data": {
      "text/plain": [
       "(100, 48, 37)"
      ]
     },
     "execution_count": 29,
     "metadata": {},
     "output_type": "execute_result"
    }
   ],
   "execution_count": 29
  },
  {
   "metadata": {
    "ExecuteTime": {
     "end_time": "2024-09-10T16:42:23.660912Z",
     "start_time": "2024-09-10T16:42:23.490930Z"
    }
   },
   "cell_type": "code",
   "source": "indicating_mask.shape",
   "id": "cf31b53add57edcd",
   "outputs": [
    {
     "data": {
      "text/plain": [
       "(7671, 48, 37)"
      ]
     },
     "execution_count": 30,
     "metadata": {},
     "output_type": "execute_result"
    }
   ],
   "execution_count": 30
  },
  {
   "metadata": {},
   "cell_type": "code",
   "outputs": [],
   "execution_count": null,
   "source": "",
   "id": "3ecf477554c2518e"
  }
 ],
 "metadata": {
  "kernelspec": {
   "display_name": "Python 3",
   "language": "python",
   "name": "python3"
  },
  "language_info": {
   "codemirror_mode": {
    "name": "ipython",
    "version": 2
   },
   "file_extension": ".py",
   "mimetype": "text/x-python",
   "name": "python",
   "nbconvert_exporter": "python",
   "pygments_lexer": "ipython2",
   "version": "2.7.6"
  }
 },
 "nbformat": 4,
 "nbformat_minor": 5
}
