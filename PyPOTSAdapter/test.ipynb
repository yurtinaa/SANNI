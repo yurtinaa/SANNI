{
 "cells": [
  {
   "metadata": {
    "ExecuteTime": {
     "end_time": "2024-09-10T16:26:16.152684Z",
     "start_time": "2024-09-10T16:26:16.101342Z"
    }
   },
   "cell_type": "code",
   "source": [
    "\n",
    "%load_ext autoreload\n",
    "%autoreload 2"
   ],
   "id": "d095c61e48da97a1",
   "outputs": [],
   "execution_count": 1
  },
  {
   "metadata": {
    "ExecuteTime": {
     "end_time": "2024-09-10T16:26:25.963812Z",
     "start_time": "2024-09-10T16:26:16.492304Z"
    }
   },
   "cell_type": "code",
   "source": [
    "import numpy as np\n",
    "from sklearn.preprocessing import StandardScaler\n",
    "from pygrinder import mcar\n",
    "from pypots.data import load_specific_dataset"
   ],
   "id": "64b0d7f02f6d96c",
   "outputs": [
    {
     "name": "stderr",
     "output_type": "stream",
     "text": [
      "I:\\work\\SANNI\\venv\\lib\\site-packages\\pypots\\nn\\modules\\reformer\\local_attention.py:31: FutureWarning: `torch.cuda.amp.autocast(args...)` is deprecated. Please use `torch.amp.autocast('cuda', args...)` instead.\n",
      "  @autocast(enabled=False)\n",
      "I:\\work\\SANNI\\venv\\lib\\site-packages\\pypots\\nn\\modules\\reformer\\local_attention.py:102: FutureWarning: `torch.cuda.amp.autocast(args...)` is deprecated. Please use `torch.amp.autocast('cuda', args...)` instead.\n",
      "  @autocast(enabled=False)\n"
     ]
    }
   ],
   "execution_count": 2
  },
  {
   "metadata": {
    "collapsed": true,
    "ExecuteTime": {
     "end_time": "2024-09-10T16:27:05.311612Z",
     "start_time": "2024-09-10T16:26:26.022577Z"
    }
   },
   "cell_type": "code",
   "source": "data = load_specific_dataset('physionet_2012')  # PyPOTS will automatically download and extract it.\n",
   "id": "initial_id",
   "outputs": [
    {
     "name": "stderr",
     "output_type": "stream",
     "text": [
      "2024-09-10 21:26:26 [INFO]: Loading the dataset physionet_2012 with TSDB (https://github.com/WenjieDu/Time_Series_Data_Beans)...\n",
      "2024-09-10 21:26:26 [INFO]: Starting preprocessing physionet_2012...\n",
      "2024-09-10 21:26:26 [INFO]: You're using dataset physionet_2012, please cite it properly in your work. You can find its reference information at the below link: \n",
      "https://github.com/WenjieDu/TSDB/tree/main/dataset_profiles/physionet_2012\n",
      "2024-09-10 21:26:26 [INFO]: Dataset physionet_2012 has already been downloaded. Processing directly...\n",
      "2024-09-10 21:26:26 [INFO]: Dataset physionet_2012 has already been cached. Loading from cache directly...\n",
      "2024-09-10 21:26:26 [INFO]: Loaded successfully!\n",
      "2024-09-10 21:27:04 [WARNING]: Note that physionet_2012 has sparse observations in the time series, hence we don't add additional missing values to the training dataset. \n",
      "2024-09-10 21:27:05 [INFO]: 69309 values masked out in the val set as ground truth, take 10.04% of the original observed values\n",
      "2024-09-10 21:27:05 [INFO]: 86852 values masked out in the test set as ground truth, take 10.01% of the original observed values\n",
      "2024-09-10 21:27:05 [INFO]: Total sample number: 11988\n",
      "2024-09-10 21:27:05 [INFO]: Training set size: 7671 (63.99%)\n",
      "2024-09-10 21:27:05 [INFO]: Validation set size: 1918 (16.00%)\n",
      "2024-09-10 21:27:05 [INFO]: Test set size: 2399 (20.01%)\n",
      "2024-09-10 21:27:05 [INFO]: Number of steps: 48\n",
      "2024-09-10 21:27:05 [INFO]: Number of features: 37\n",
      "2024-09-10 21:27:05 [INFO]: Train set missing rate: 79.72%\n",
      "2024-09-10 21:27:05 [INFO]: Validating set missing rate: 81.78%\n",
      "2024-09-10 21:27:05 [INFO]: Test set missing rate: 81.68%\n",
      "2024-09-10 21:27:05 [WARNING]: ⚠️ load_specific_dataset() will be deprecated in the near future. Data preprocessing functions are moved to BenchPOTS, which now supports processing 170+ public time-series datasets.\n"
     ]
    }
   ],
   "execution_count": 3
  },
  {
   "metadata": {
    "ExecuteTime": {
     "end_time": "2024-09-10T16:27:05.533524Z",
     "start_time": "2024-09-10T16:27:05.362682Z"
    }
   },
   "cell_type": "code",
   "source": "data.keys()",
   "id": "b8c2745b978cdc31",
   "outputs": [
    {
     "data": {
      "text/plain": [
       "dict_keys(['n_classes', 'n_steps', 'n_features', 'scaler', 'train_X', 'train_y', 'train_ICUType', 'val_X', 'val_y', 'val_ICUType', 'test_X', 'test_y', 'test_ICUType', 'val_X_ori', 'test_X_ori'])"
      ]
     },
     "execution_count": 4,
     "metadata": {},
     "output_type": "execute_result"
    }
   ],
   "execution_count": 4
  },
  {
   "metadata": {
    "ExecuteTime": {
     "end_time": "2024-09-10T16:27:06.334925Z",
     "start_time": "2024-09-10T16:27:05.595722Z"
    }
   },
   "cell_type": "code",
   "source": [
    "X = data['train_X']\n",
    "num_samples = len(X)\n",
    "# X = X.drop(['RecordID', 'Time'], axis = 1)\n",
    "X = X.reshape(-1,37)\n",
    "X = StandardScaler().fit_transform(X)\n",
    "X = X.reshape(num_samples, 48, -1)\n",
    "X_ori = X  # keep X_ori for validation\n",
    "X = mcar(X, 0.1)"
   ],
   "id": "5b4c82c935197b3c",
   "outputs": [],
   "execution_count": 5
  },
  {
   "metadata": {},
   "cell_type": "markdown",
   "source": "",
   "id": "2a130a91299b083c"
  },
  {
   "metadata": {
    "ExecuteTime": {
     "end_time": "2024-09-10T16:27:18.979268Z",
     "start_time": "2024-09-10T16:27:18.830070Z"
    }
   },
   "cell_type": "code",
   "source": "print(X.shape)  # (11988, 48, 37), 11988 samples and each sample has 48 time steps, 37 features",
   "id": "df2c78fe750f5c21",
   "outputs": [
    {
     "name": "stdout",
     "output_type": "stream",
     "text": [
      "(7671, 48, 37)\n"
     ]
    }
   ],
   "execution_count": 6
  },
  {
   "metadata": {
    "ExecuteTime": {
     "end_time": "2024-09-10T16:27:25.174865Z",
     "start_time": "2024-09-10T16:27:21.241369Z"
    }
   },
   "cell_type": "code",
   "source": [
    "from pypots.imputation import BRITS\n",
    "from BRITS.PypotsBrits import BRITS as myBrits"
   ],
   "id": "14be5742ebab513e",
   "outputs": [],
   "execution_count": 7
  },
  {
   "metadata": {},
   "cell_type": "code",
   "outputs": [],
   "execution_count": null,
   "source": "",
   "id": "f5257f4e1f91a52"
  },
  {
   "metadata": {
    "ExecuteTime": {
     "end_time": "2024-09-10T16:39:24.750894Z",
     "start_time": "2024-09-10T16:39:24.585220Z"
    }
   },
   "cell_type": "code",
   "source": "saits = BRITS(n_steps=48, n_features=37, epochs=10,rnn_hidden_size=10)\n",
   "id": "60c4bb6c04af9c9a",
   "outputs": [
    {
     "name": "stderr",
     "output_type": "stream",
     "text": [
      "2024-09-10 21:39:24 [INFO]: No given device, using default device: cuda\n",
      "2024-09-10 21:39:24 [WARNING]: ‼️ saving_path not given. Model files and tensorboard file will not be saved.\n",
      "2024-09-10 21:39:24 [INFO]: BRITS initialized with the given hyperparameters, the number of trainable parameters: 19,628\n",
      "2024-09-10 21:39:24 [INFO]: No given device, using default device: cuda\n",
      "2024-09-10 21:39:24 [WARNING]: ‼️ saving_path not given. Model files and tensorboard file will not be saved.\n",
      "2024-09-10 21:39:24 [INFO]: BRITS initialized with the given hyperparameters, the number of trainable parameters: 19,628\n"
     ]
    }
   ],
   "execution_count": 20
  },
  {
   "metadata": {
    "ExecuteTime": {
     "end_time": "2024-09-10T16:40:10.272190Z",
     "start_time": "2024-09-10T16:39:25.175912Z"
    }
   },
   "cell_type": "code",
   "source": [
    "dataset = {\"X\": X[:100]}  # X for model input\n",
    "saits.fit(dataset)  # train the model on the dataset\n"
   ],
   "id": "62df125219660a27",
   "outputs": [
    {
     "name": "stderr",
     "output_type": "stream",
     "text": [
      "2024-09-10 21:39:37 [INFO]: Epoch 001 - training loss: 1.3701\n",
      "2024-09-10 21:39:44 [INFO]: Epoch 002 - training loss: 1.4052\n",
      "2024-09-10 21:39:48 [INFO]: Epoch 003 - training loss: 1.4267\n",
      "2024-09-10 21:39:51 [INFO]: Epoch 004 - training loss: 1.3724\n",
      "2024-09-10 21:39:55 [INFO]: Epoch 005 - training loss: 1.3211\n",
      "2024-09-10 21:39:58 [INFO]: Epoch 006 - training loss: 1.3225\n",
      "2024-09-10 21:40:01 [INFO]: Epoch 007 - training loss: 1.3225\n",
      "2024-09-10 21:40:04 [INFO]: Epoch 008 - training loss: 1.3668\n",
      "2024-09-10 21:40:07 [INFO]: Epoch 009 - training loss: 1.3366\n",
      "2024-09-10 21:40:10 [INFO]: Epoch 010 - training loss: 1.2967\n",
      "2024-09-10 21:40:10 [INFO]: Finished training. The best model is from epoch#10.\n"
     ]
    }
   ],
   "execution_count": 21
  },
  {
   "metadata": {
    "ExecuteTime": {
     "end_time": "2024-09-10T16:48:04.769833Z",
     "start_time": "2024-09-10T16:47:29.084104Z"
    }
   },
   "cell_type": "code",
   "source": [
    "dataset = {\"X\": X[:100]}  # X for model input\n",
    "myBritrs = myBrits(n_steps=48, n_features=37, epochs=10,rnn_hidden_size=10)\n",
    "myBritrs.fit(dataset) "
   ],
   "id": "9028de8c9fc545a2",
   "outputs": [
    {
     "name": "stderr",
     "output_type": "stream",
     "text": [
      "2024-09-10 21:47:30 [INFO]: No given device, using default device: cuda\n",
      "2024-09-10 21:47:30 [WARNING]: ‼️ saving_path not given. Model files and tensorboard file will not be saved.\n",
      "2024-09-10 21:47:30 [INFO]: BRITS initialized with the given hyperparameters, the number of trainable parameters: 19,628\n",
      "2024-09-10 21:47:34 [INFO]: Epoch 001 - training loss: 1.3995\n",
      "2024-09-10 21:47:37 [INFO]: Epoch 002 - training loss: 1.3933\n",
      "2024-09-10 21:47:40 [INFO]: Epoch 003 - training loss: 1.3421\n",
      "2024-09-10 21:47:43 [INFO]: Epoch 004 - training loss: 1.3408\n",
      "2024-09-10 21:47:48 [INFO]: Epoch 005 - training loss: 1.5188\n",
      "2024-09-10 21:47:53 [INFO]: Epoch 006 - training loss: 1.3456\n",
      "2024-09-10 21:47:55 [INFO]: Epoch 007 - training loss: 1.3334\n",
      "2024-09-10 21:47:58 [INFO]: Epoch 008 - training loss: 1.3464\n",
      "2024-09-10 21:48:01 [INFO]: Epoch 009 - training loss: 1.3314\n",
      "2024-09-10 21:48:04 [INFO]: Epoch 010 - training loss: 1.2868\n",
      "2024-09-10 21:48:04 [INFO]: Finished training. The best model is from epoch#10.\n"
     ]
    }
   ],
   "execution_count": 48
  },
  {
   "metadata": {
    "ExecuteTime": {
     "end_time": "2024-09-10T16:48:06.661191Z",
     "start_time": "2024-09-10T16:48:04.781778Z"
    }
   },
   "cell_type": "code",
   "source": "brits_impute = saits.impute(dataset)",
   "id": "1cfcdcd21d84f454",
   "outputs": [],
   "execution_count": 49
  },
  {
   "metadata": {
    "ExecuteTime": {
     "end_time": "2024-09-10T16:48:08.906507Z",
     "start_time": "2024-09-10T16:48:06.695305Z"
    }
   },
   "cell_type": "code",
   "source": [
    "my_brits_impute = myBritrs.impute(dataset)\n",
    "indicating_mask = np.isnan(X) ^ np.isnan(X_ori)"
   ],
   "id": "3662f932e87994da",
   "outputs": [],
   "execution_count": 50
  },
  {
   "metadata": {
    "ExecuteTime": {
     "end_time": "2024-09-10T16:48:09.113489Z",
     "start_time": "2024-09-10T16:48:08.940539Z"
    }
   },
   "cell_type": "code",
   "source": [
    "indicating_mask = np.isnan(X) ^ np.isnan(X_ori)\n",
    "indicating_mask=indicating_mask[:100]"
   ],
   "id": "9c202497e775110c",
   "outputs": [],
   "execution_count": 51
  },
  {
   "metadata": {
    "ExecuteTime": {
     "end_time": "2024-09-10T16:48:09.305186Z",
     "start_time": "2024-09-10T16:48:09.147549Z"
    }
   },
   "cell_type": "code",
   "source": [
    "from pypots.utils.metrics import calc_mae\n",
    "\n",
    "calc_mae(brits_impute, np.nan_to_num(X_ori[:100]), indicating_mask)  # calculate mean absolute error on the ground truth (artificially-missing values)\n"
   ],
   "id": "1aa9db07985b820c",
   "outputs": [
    {
     "data": {
      "text/plain": [
       "0.6448835102391127"
      ]
     },
     "execution_count": 52,
     "metadata": {},
     "output_type": "execute_result"
    }
   ],
   "execution_count": 52
  },
  {
   "metadata": {
    "ExecuteTime": {
     "end_time": "2024-09-10T16:48:09.559166Z",
     "start_time": "2024-09-10T16:48:09.416133Z"
    }
   },
   "cell_type": "code",
   "source": "calc_mae(my_brits_impute, np.nan_to_num(X_ori[:100]), indicating_mask)  # calculate mean absolute error on the ground truth (artificially-missing values)",
   "id": "7f882b6f939ee080",
   "outputs": [
    {
     "data": {
      "text/plain": [
       "0.6342681050825613"
      ]
     },
     "execution_count": 53,
     "metadata": {},
     "output_type": "execute_result"
    }
   ],
   "execution_count": 53
  },
  {
   "metadata": {
    "ExecuteTime": {
     "end_time": "2024-09-10T16:42:18.248663Z",
     "start_time": "2024-09-10T16:42:18.054637Z"
    }
   },
   "cell_type": "code",
   "source": "",
   "id": "7c61510878ed3011",
   "outputs": [
    {
     "data": {
      "text/plain": [
       "(100, 48, 37)"
      ]
     },
     "execution_count": 29,
     "metadata": {},
     "output_type": "execute_result"
    }
   ],
   "execution_count": 29
  },
  {
   "metadata": {
    "ExecuteTime": {
     "end_time": "2024-09-10T16:42:23.660912Z",
     "start_time": "2024-09-10T16:42:23.490930Z"
    }
   },
   "cell_type": "code",
   "source": "indicating_mask.shape",
   "id": "cf31b53add57edcd",
   "outputs": [
    {
     "data": {
      "text/plain": [
       "(7671, 48, 37)"
      ]
     },
     "execution_count": 30,
     "metadata": {},
     "output_type": "execute_result"
    }
   ],
   "execution_count": 30
  },
  {
   "metadata": {},
   "cell_type": "code",
   "outputs": [],
   "execution_count": null,
   "source": "",
   "id": "3ecf477554c2518e"
  }
 ],
 "metadata": {
  "kernelspec": {
   "display_name": "Python 3",
   "language": "python",
   "name": "python3"
  },
  "language_info": {
   "codemirror_mode": {
    "name": "ipython",
    "version": 2
   },
   "file_extension": ".py",
   "mimetype": "text/x-python",
   "name": "python",
   "nbconvert_exporter": "python",
   "pygments_lexer": "ipython2",
   "version": "2.7.6"
  }
 },
 "nbformat": 4,
 "nbformat_minor": 5
}
