{
 "cells": [
  {
   "metadata": {
    "ExecuteTime": {
     "end_time": "2024-09-13T12:30:51.807191Z",
     "start_time": "2024-09-13T12:30:51.736999Z"
    }
   },
   "cell_type": "code",
   "source": [
    "\n",
    "%load_ext autoreload\n",
    "%autoreload 2"
   ],
   "id": "d095c61e48da97a1",
   "outputs": [],
   "execution_count": 1
  },
  {
   "metadata": {
    "ExecuteTime": {
     "end_time": "2024-09-13T12:31:11.221483Z",
     "start_time": "2024-09-13T12:30:51.842113Z"
    }
   },
   "cell_type": "code",
   "source": [
    "import numpy as np\n",
    "from sklearn.preprocessing import StandardScaler\n",
    "from pygrinder import mcar\n",
    "from pypots.data import load_specific_dataset"
   ],
   "id": "64b0d7f02f6d96c",
   "outputs": [
    {
     "name": "stderr",
     "output_type": "stream",
     "text": [
      "I:\\work\\SANNI\\venv\\lib\\site-packages\\pypots\\nn\\modules\\reformer\\local_attention.py:31: FutureWarning: `torch.cuda.amp.autocast(args...)` is deprecated. Please use `torch.amp.autocast('cuda', args...)` instead.\n",
      "  @autocast(enabled=False)\n",
      "I:\\work\\SANNI\\venv\\lib\\site-packages\\pypots\\nn\\modules\\reformer\\local_attention.py:102: FutureWarning: `torch.cuda.amp.autocast(args...)` is deprecated. Please use `torch.amp.autocast('cuda', args...)` instead.\n",
      "  @autocast(enabled=False)\n"
     ]
    }
   ],
   "execution_count": 2
  },
  {
   "metadata": {
    "collapsed": true,
    "ExecuteTime": {
     "end_time": "2024-09-13T12:31:49.459087Z",
     "start_time": "2024-09-13T12:31:11.489372Z"
    }
   },
   "cell_type": "code",
   "source": "data = load_specific_dataset('physionet_2012')  # PyPOTS will automatically download and extract it.\n",
   "id": "initial_id",
   "outputs": [
    {
     "name": "stderr",
     "output_type": "stream",
     "text": [
      "2024-09-13 17:31:11 [INFO]: Loading the dataset physionet_2012 with TSDB (https://github.com/WenjieDu/Time_Series_Data_Beans)...\n",
      "2024-09-13 17:31:11 [INFO]: Starting preprocessing physionet_2012...\n",
      "2024-09-13 17:31:11 [INFO]: You're using dataset physionet_2012, please cite it properly in your work. You can find its reference information at the below link: \n",
      "https://github.com/WenjieDu/TSDB/tree/main/dataset_profiles/physionet_2012\n",
      "2024-09-13 17:31:11 [INFO]: Dataset physionet_2012 has already been downloaded. Processing directly...\n",
      "2024-09-13 17:31:11 [INFO]: Dataset physionet_2012 has already been cached. Loading from cache directly...\n",
      "2024-09-13 17:31:11 [INFO]: Loaded successfully!\n",
      "2024-09-13 17:31:49 [WARNING]: Note that physionet_2012 has sparse observations in the time series, hence we don't add additional missing values to the training dataset. \n",
      "2024-09-13 17:31:49 [INFO]: 69238 values masked out in the val set as ground truth, take 10.03% of the original observed values\n",
      "2024-09-13 17:31:49 [INFO]: 86269 values masked out in the test set as ground truth, take 9.98% of the original observed values\n",
      "2024-09-13 17:31:49 [INFO]: Total sample number: 11988\n",
      "2024-09-13 17:31:49 [INFO]: Training set size: 7671 (63.99%)\n",
      "2024-09-13 17:31:49 [INFO]: Validation set size: 1918 (16.00%)\n",
      "2024-09-13 17:31:49 [INFO]: Test set size: 2399 (20.01%)\n",
      "2024-09-13 17:31:49 [INFO]: Number of steps: 48\n",
      "2024-09-13 17:31:49 [INFO]: Number of features: 37\n",
      "2024-09-13 17:31:49 [INFO]: Train set missing rate: 79.70%\n",
      "2024-09-13 17:31:49 [INFO]: Validating set missing rate: 81.76%\n",
      "2024-09-13 17:31:49 [INFO]: Test set missing rate: 81.74%\n",
      "2024-09-13 17:31:49 [WARNING]: ⚠️ load_specific_dataset() will be deprecated in the near future. Data preprocessing functions are moved to BenchPOTS, which now supports processing 170+ public time-series datasets.\n"
     ]
    }
   ],
   "execution_count": 3
  },
  {
   "metadata": {
    "ExecuteTime": {
     "end_time": "2024-09-13T12:31:55.724074700Z",
     "start_time": "2024-09-13T12:31:49.508701Z"
    }
   },
   "cell_type": "code",
   "source": "data.keys()",
   "id": "b8c2745b978cdc31",
   "outputs": [
    {
     "data": {
      "text/plain": [
       "dict_keys(['n_classes', 'n_steps', 'n_features', 'scaler', 'train_X', 'train_y', 'train_ICUType', 'val_X', 'val_y', 'val_ICUType', 'test_X', 'test_y', 'test_ICUType', 'val_X_ori', 'test_X_ori'])"
      ]
     },
     "execution_count": 4,
     "metadata": {},
     "output_type": "execute_result"
    }
   ],
   "execution_count": 4
  },
  {
   "metadata": {
    "ExecuteTime": {
     "end_time": "2024-09-13T12:32:17.645362Z",
     "start_time": "2024-09-13T12:32:16.778041Z"
    }
   },
   "cell_type": "code",
   "source": [
    "X = data['train_X']\n",
    "num_samples = len(X)\n",
    "# X = X.drop(['RecordID', 'Time'], axis = 1)\n",
    "X = X.reshape(-1,37)\n",
    "X = StandardScaler().fit_transform(X)\n",
    "X = X.reshape(num_samples, 48, -1)\n",
    "X_ori = X  # keep X_ori for validation\n",
    "X = mcar(X, 0.1)"
   ],
   "id": "5b4c82c935197b3c",
   "outputs": [],
   "execution_count": 8
  },
  {
   "metadata": {},
   "cell_type": "markdown",
   "source": "",
   "id": "2a130a91299b083c"
  },
  {
   "metadata": {
    "ExecuteTime": {
     "end_time": "2024-09-13T12:32:19.600730Z",
     "start_time": "2024-09-13T12:32:19.385264Z"
    }
   },
   "cell_type": "code",
   "source": "print(X.shape)  # (11988, 48, 37), 11988 samples and each sample has 48 time steps, 37 features",
   "id": "df2c78fe750f5c21",
   "outputs": [
    {
     "name": "stdout",
     "output_type": "stream",
     "text": [
      "(7671, 48, 37)\n"
     ]
    }
   ],
   "execution_count": 9
  },
  {
   "metadata": {
    "ExecuteTime": {
     "end_time": "2024-09-13T12:33:07.020378Z",
     "start_time": "2024-09-13T12:33:06.858249Z"
    }
   },
   "cell_type": "code",
   "source": [
    "from pypots.imputation import BRITS\n",
    "from BRITS.PypotsBrits import BRITS as myBrits"
   ],
   "id": "14be5742ebab513e",
   "outputs": [],
   "execution_count": 11
  },
  {
   "metadata": {},
   "cell_type": "code",
   "outputs": [],
   "execution_count": null,
   "source": "",
   "id": "f5257f4e1f91a52"
  },
  {
   "metadata": {
    "ExecuteTime": {
     "end_time": "2024-09-13T12:33:17.581701Z",
     "start_time": "2024-09-13T12:33:12.313829Z"
    }
   },
   "cell_type": "code",
   "source": "saits = BRITS(n_steps=48, n_features=37, epochs=10,rnn_hidden_size=10)\n",
   "id": "60c4bb6c04af9c9a",
   "outputs": [
    {
     "name": "stderr",
     "output_type": "stream",
     "text": [
      "2024-09-13 17:33:12 [INFO]: No given device, using default device: cuda\n",
      "2024-09-13 17:33:12 [WARNING]: ‼️ saving_path not given. Model files and tensorboard file will not be saved.\n",
      "2024-09-13 17:33:17 [INFO]: BRITS initialized with the given hyperparameters, the number of trainable parameters: 19,628\n"
     ]
    }
   ],
   "execution_count": 12
  },
  {
   "metadata": {
    "ExecuteTime": {
     "end_time": "2024-09-13T12:33:55.193143Z",
     "start_time": "2024-09-13T12:33:21.906272Z"
    }
   },
   "cell_type": "code",
   "source": [
    "dataset = {\"X\": X[:100]}  # X for model input\n",
    "saits.fit(dataset)  # train the model on the dataset\n"
   ],
   "id": "62df125219660a27",
   "outputs": [
    {
     "name": "stderr",
     "output_type": "stream",
     "text": [
      "2024-09-13 17:33:27 [INFO]: Epoch 001 - training loss: 1.4454\n",
      "2024-09-13 17:33:30 [INFO]: Epoch 002 - training loss: 1.4355\n",
      "2024-09-13 17:33:33 [INFO]: Epoch 003 - training loss: 1.3529\n",
      "2024-09-13 17:33:36 [INFO]: Epoch 004 - training loss: 1.3823\n",
      "2024-09-13 17:33:39 [INFO]: Epoch 005 - training loss: 1.5099\n",
      "2024-09-13 17:33:42 [INFO]: Epoch 006 - training loss: 1.3715\n",
      "2024-09-13 17:33:45 [INFO]: Epoch 007 - training loss: 1.3376\n",
      "2024-09-13 17:33:48 [INFO]: Epoch 008 - training loss: 1.3605\n",
      "2024-09-13 17:33:51 [INFO]: Epoch 009 - training loss: 1.2924\n",
      "2024-09-13 17:33:55 [INFO]: Epoch 010 - training loss: 1.3248\n",
      "2024-09-13 17:33:55 [INFO]: Finished training. The best model is from epoch#9.\n"
     ]
    }
   ],
   "execution_count": 13
  },
  {
   "metadata": {},
   "cell_type": "markdown",
   "source": "",
   "id": "8064dcb38b09820b"
  },
  {
   "metadata": {
    "ExecuteTime": {
     "end_time": "2024-09-13T17:50:19.758171Z",
     "start_time": "2024-09-13T17:49:45.605902Z"
    }
   },
   "cell_type": "code",
   "source": [
    "dataset = {\"X\": X[:100]}  # X for model input\n",
    "myBritrs = myBrits(n_steps=48, n_features=37, epochs=10,rnn_hidden_size=10)\n",
    "myBritrs.fit(dataset) "
   ],
   "id": "9028de8c9fc545a2",
   "outputs": [
    {
     "name": "stderr",
     "output_type": "stream",
     "text": [
      "2024-09-13 22:49:47 [INFO]: No given device, using default device: cuda\n",
      "2024-09-13 22:49:47 [WARNING]: ‼️ saving_path not given. Model files and tensorboard file will not be saved.\n",
      "2024-09-13 22:49:47 [INFO]: BRITS initialized with the given hyperparameters, the number of trainable parameters: 19,628\n"
     ]
    },
    {
     "name": "stdout",
     "output_type": "stream",
     "text": [
      "tensor(1.4751, device='cuda:0', grad_fn=<AddBackward0>)\n",
      "tensor(1.3448, device='cuda:0', grad_fn=<AddBackward0>)\n",
      "tensor(1.4243, device='cuda:0', grad_fn=<AddBackward0>)\n",
      "tensor(1.4016, device='cuda:0', grad_fn=<AddBackward0>)\n"
     ]
    },
    {
     "name": "stderr",
     "output_type": "stream",
     "text": [
      "2024-09-13 22:49:50 [INFO]: Epoch 001 - training loss: 1.4115\n"
     ]
    },
    {
     "name": "stdout",
     "output_type": "stream",
     "text": [
      "tensor(1.4403, device='cuda:0', grad_fn=<AddBackward0>)\n",
      "tensor(1.3572, device='cuda:0', grad_fn=<AddBackward0>)\n",
      "tensor(1.4114, device='cuda:0', grad_fn=<AddBackward0>)\n",
      "tensor(1.3025, device='cuda:0', grad_fn=<AddBackward0>)\n"
     ]
    },
    {
     "name": "stderr",
     "output_type": "stream",
     "text": [
      "2024-09-13 22:49:54 [INFO]: Epoch 002 - training loss: 1.3778\n"
     ]
    },
    {
     "name": "stdout",
     "output_type": "stream",
     "text": [
      "tensor(1.4299, device='cuda:0', grad_fn=<AddBackward0>)\n",
      "tensor(1.3715, device='cuda:0', grad_fn=<AddBackward0>)\n",
      "tensor(1.3528, device='cuda:0', grad_fn=<AddBackward0>)\n",
      "tensor(1.4482, device='cuda:0', grad_fn=<AddBackward0>)\n"
     ]
    },
    {
     "name": "stderr",
     "output_type": "stream",
     "text": [
      "2024-09-13 22:49:57 [INFO]: Epoch 003 - training loss: 1.4006\n"
     ]
    },
    {
     "name": "stdout",
     "output_type": "stream",
     "text": [
      "tensor(1.2700, device='cuda:0', grad_fn=<AddBackward0>)\n",
      "tensor(1.4552, device='cuda:0', grad_fn=<AddBackward0>)\n",
      "tensor(1.4063, device='cuda:0', grad_fn=<AddBackward0>)\n",
      "tensor(1.3303, device='cuda:0', grad_fn=<AddBackward0>)\n"
     ]
    },
    {
     "name": "stderr",
     "output_type": "stream",
     "text": [
      "2024-09-13 22:50:00 [INFO]: Epoch 004 - training loss: 1.3654\n"
     ]
    },
    {
     "name": "stdout",
     "output_type": "stream",
     "text": [
      "tensor(1.3251, device='cuda:0', grad_fn=<AddBackward0>)\n",
      "tensor(1.3520, device='cuda:0', grad_fn=<AddBackward0>)\n",
      "tensor(1.4214, device='cuda:0', grad_fn=<AddBackward0>)\n",
      "tensor(1.3522, device='cuda:0', grad_fn=<AddBackward0>)\n"
     ]
    },
    {
     "name": "stderr",
     "output_type": "stream",
     "text": [
      "2024-09-13 22:50:04 [INFO]: Epoch 005 - training loss: 1.3627\n"
     ]
    },
    {
     "name": "stdout",
     "output_type": "stream",
     "text": [
      "tensor(1.3937, device='cuda:0', grad_fn=<AddBackward0>)\n",
      "tensor(1.3275, device='cuda:0', grad_fn=<AddBackward0>)\n",
      "tensor(1.3383, device='cuda:0', grad_fn=<AddBackward0>)\n",
      "tensor(1.3841, device='cuda:0', grad_fn=<AddBackward0>)\n"
     ]
    },
    {
     "name": "stderr",
     "output_type": "stream",
     "text": [
      "2024-09-13 22:50:07 [INFO]: Epoch 006 - training loss: 1.3609\n"
     ]
    },
    {
     "name": "stdout",
     "output_type": "stream",
     "text": [
      "tensor(1.3460, device='cuda:0', grad_fn=<AddBackward0>)\n",
      "tensor(1.3176, device='cuda:0', grad_fn=<AddBackward0>)\n",
      "tensor(1.3731, device='cuda:0', grad_fn=<AddBackward0>)\n",
      "tensor(1.3371, device='cuda:0', grad_fn=<AddBackward0>)\n"
     ]
    },
    {
     "name": "stderr",
     "output_type": "stream",
     "text": [
      "2024-09-13 22:50:09 [INFO]: Epoch 007 - training loss: 1.3434\n"
     ]
    },
    {
     "name": "stdout",
     "output_type": "stream",
     "text": [
      "tensor(1.3600, device='cuda:0', grad_fn=<AddBackward0>)\n",
      "tensor(1.3603, device='cuda:0', grad_fn=<AddBackward0>)\n",
      "tensor(1.3034, device='cuda:0', grad_fn=<AddBackward0>)\n",
      "tensor(1.2280, device='cuda:0', grad_fn=<AddBackward0>)\n"
     ]
    },
    {
     "name": "stderr",
     "output_type": "stream",
     "text": [
      "2024-09-13 22:50:12 [INFO]: Epoch 008 - training loss: 1.3129\n"
     ]
    },
    {
     "name": "stdout",
     "output_type": "stream",
     "text": [
      "tensor(1.2974, device='cuda:0', grad_fn=<AddBackward0>)\n",
      "tensor(1.3981, device='cuda:0', grad_fn=<AddBackward0>)\n",
      "tensor(1.2780, device='cuda:0', grad_fn=<AddBackward0>)\n",
      "tensor(1.4077, device='cuda:0', grad_fn=<AddBackward0>)\n"
     ]
    },
    {
     "name": "stderr",
     "output_type": "stream",
     "text": [
      "2024-09-13 22:50:15 [INFO]: Epoch 009 - training loss: 1.3453\n"
     ]
    },
    {
     "name": "stdout",
     "output_type": "stream",
     "text": [
      "tensor(1.3088, device='cuda:0', grad_fn=<AddBackward0>)\n",
      "tensor(1.3022, device='cuda:0', grad_fn=<AddBackward0>)\n",
      "tensor(1.3466, device='cuda:0', grad_fn=<AddBackward0>)\n",
      "tensor(1.3209, device='cuda:0', grad_fn=<AddBackward0>)\n"
     ]
    },
    {
     "name": "stderr",
     "output_type": "stream",
     "text": [
      "2024-09-13 22:50:19 [INFO]: Epoch 010 - training loss: 1.3196\n",
      "2024-09-13 22:50:19 [INFO]: Finished training. The best model is from epoch#8.\n"
     ]
    }
   ],
   "execution_count": 101
  },
  {
   "metadata": {
    "ExecuteTime": {
     "end_time": "2024-09-13T13:43:40.695167Z",
     "start_time": "2024-09-13T13:43:37.613507Z"
    }
   },
   "cell_type": "code",
   "source": "brits_impute = saits.impute(dataset)",
   "id": "1cfcdcd21d84f454",
   "outputs": [],
   "execution_count": 77
  },
  {
   "metadata": {
    "ExecuteTime": {
     "end_time": "2024-09-13T13:43:43.513738Z",
     "start_time": "2024-09-13T13:43:40.745761Z"
    }
   },
   "cell_type": "code",
   "source": [
    "my_brits_impute = myBritrs.impute(dataset)\n",
    "indicating_mask = np.isnan(X) ^ np.isnan(X_ori)"
   ],
   "id": "3662f932e87994da",
   "outputs": [
    {
     "name": "stdout",
     "output_type": "stream",
     "text": [
      "tensor(0.7052, device='cuda:0') tensor(0.6363, device='cuda:0') tensor(1.3415, device='cuda:0')\n",
      "tensor(0.6531, device='cuda:0') tensor(0.6347, device='cuda:0') tensor(1.2878, device='cuda:0')\n",
      "tensor(0.5035, device='cuda:0') tensor(0.4907, device='cuda:0') tensor(0.9941, device='cuda:0')\n",
      "tensor(0.6895, device='cuda:0') tensor(0.6528, device='cuda:0') tensor(1.3423, device='cuda:0')\n"
     ]
    }
   ],
   "execution_count": 78
  },
  {
   "metadata": {
    "ExecuteTime": {
     "end_time": "2024-09-13T13:43:43.763955Z",
     "start_time": "2024-09-13T13:43:43.565861Z"
    }
   },
   "cell_type": "code",
   "source": [
    "indicating_mask = np.isnan(X) ^ np.isnan(X_ori)\n",
    "indicating_mask=indicating_mask[:100]"
   ],
   "id": "9c202497e775110c",
   "outputs": [],
   "execution_count": 79
  },
  {
   "metadata": {
    "ExecuteTime": {
     "end_time": "2024-09-13T13:43:44.319941Z",
     "start_time": "2024-09-13T13:43:43.916397Z"
    }
   },
   "cell_type": "code",
   "source": [
    "from pypots.utils.metrics import calc_mae\n",
    "\n",
    "calc_mae(brits_impute, np.nan_to_num(X_ori[:100]), indicating_mask)  # calculate mean absolute error on the ground truth (artificially-missing values)\n"
   ],
   "id": "1aa9db07985b820c",
   "outputs": [
    {
     "data": {
      "text/plain": [
       "0.6425847256782081"
      ]
     },
     "execution_count": 80,
     "metadata": {},
     "output_type": "execute_result"
    }
   ],
   "execution_count": 80
  },
  {
   "metadata": {
    "ExecuteTime": {
     "end_time": "2024-09-13T15:20:33.173249Z",
     "start_time": "2024-09-13T15:20:33.003128Z"
    }
   },
   "cell_type": "code",
   "source": "calc_mae(my_brits_impute, np.nan_to_num(X_ori[:100]), indicating_mask)  # calculate mean absolute error on the ground truth (artificially-missing values)",
   "id": "7f882b6f939ee080",
   "outputs": [
    {
     "data": {
      "text/plain": [
       "0.6644782974148035"
      ]
     },
     "execution_count": 98,
     "metadata": {},
     "output_type": "execute_result"
    }
   ],
   "execution_count": 98
  },
  {
   "metadata": {
    "ExecuteTime": {
     "end_time": "2024-09-10T16:42:18.248663Z",
     "start_time": "2024-09-10T16:42:18.054637Z"
    }
   },
   "cell_type": "code",
   "source": "",
   "id": "7c61510878ed3011",
   "outputs": [
    {
     "data": {
      "text/plain": [
       "(100, 48, 37)"
      ]
     },
     "execution_count": 29,
     "metadata": {},
     "output_type": "execute_result"
    }
   ],
   "execution_count": 29
  },
  {
   "metadata": {
    "ExecuteTime": {
     "end_time": "2024-09-10T16:42:23.660912Z",
     "start_time": "2024-09-10T16:42:23.490930Z"
    }
   },
   "cell_type": "code",
   "source": "indicating_mask.shape",
   "id": "cf31b53add57edcd",
   "outputs": [
    {
     "data": {
      "text/plain": [
       "(7671, 48, 37)"
      ]
     },
     "execution_count": 30,
     "metadata": {},
     "output_type": "execute_result"
    }
   ],
   "execution_count": 30
  },
  {
   "metadata": {},
   "cell_type": "code",
   "outputs": [],
   "execution_count": null,
   "source": "",
   "id": "3ecf477554c2518e"
  }
 ],
 "metadata": {
  "kernelspec": {
   "display_name": "Python 3",
   "language": "python",
   "name": "python3"
  },
  "language_info": {
   "codemirror_mode": {
    "name": "ipython",
    "version": 2
   },
   "file_extension": ".py",
   "mimetype": "text/x-python",
   "name": "python",
   "nbconvert_exporter": "python",
   "pygments_lexer": "ipython2",
   "version": "2.7.6"
  }
 },
 "nbformat": 4,
 "nbformat_minor": 5
}
